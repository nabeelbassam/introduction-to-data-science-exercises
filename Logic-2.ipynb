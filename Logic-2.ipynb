{
 "cells": [
  {
   "cell_type": "markdown",
   "metadata": {},
   "source": [
    "close_far "
   ]
  },
  {
   "cell_type": "code",
   "execution_count": 1,
   "metadata": {},
   "outputs": [],
   "source": [
    "def close_far(a, b, c):\n",
    "  if abs(b-a)==1 and abs(c-b)>=2 and abs(c-a)>=2:return True\n",
    "  elif abs(c-a)==1 and abs(b-a)>=2 and abs(b-c)>=2:return True\n",
    "  elif a==b or a==c or b==c:return True\n",
    "  return False"
   ]
  },
  {
   "cell_type": "markdown",
   "metadata": {},
   "source": [
    "no_teen_sum "
   ]
  },
  {
   "cell_type": "code",
   "execution_count": 2,
   "metadata": {},
   "outputs": [],
   "source": [
    "def no_teen_sum(a, b, c):\n",
    "  return fix_teen(a)+fix_teen(b)+fix_teen(c)\n",
    "\n",
    "\n",
    "\n",
    "def fix_teen(n):\n",
    "  if n==13 or n==14 or (n>16 and n<=19) :return 0\n",
    "  else :return n"
   ]
  },
  {
   "cell_type": "markdown",
   "metadata": {},
   "source": [
    "lone_sum "
   ]
  },
  {
   "cell_type": "code",
   "execution_count": 3,
   "metadata": {},
   "outputs": [],
   "source": [
    "def lone_sum(a, b, c):\n",
    "  if a==b and b==c:return 0\n",
    "  elif a==b :return c\n",
    "  elif a==c :return b\n",
    "  elif b==c :return a\n",
    "  return a+b+c\n"
   ]
  },
  {
   "cell_type": "markdown",
   "metadata": {},
   "source": [
    "lucky_sum "
   ]
  },
  {
   "cell_type": "code",
   "execution_count": 4,
   "metadata": {},
   "outputs": [],
   "source": [
    "def lucky_sum(a, b, c):\n",
    "  if a!=13 and b!=13 and c!=13 :return a+b+c\n",
    "  elif a==13 :return 0\n",
    "  elif b==13 :return a\n",
    "  elif c==13 :return a+b\n"
   ]
  }
 ],
 "metadata": {
  "kernelspec": {
   "display_name": "Python 3",
   "language": "python",
   "name": "python3"
  },
  "language_info": {
   "codemirror_mode": {
    "name": "ipython",
    "version": 3
   },
   "file_extension": ".py",
   "mimetype": "text/x-python",
   "name": "python",
   "nbconvert_exporter": "python",
   "pygments_lexer": "ipython3",
   "version": "3.6.5"
  }
 },
 "nbformat": 4,
 "nbformat_minor": 2
}
