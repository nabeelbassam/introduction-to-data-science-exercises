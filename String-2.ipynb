{
 "cells": [
  {
   "cell_type": "markdown",
   "metadata": {},
   "source": [
    "count_code "
   ]
  },
  {
   "cell_type": "code",
   "execution_count": 1,
   "metadata": {},
   "outputs": [],
   "source": [
    "def count_code(str):\n",
    "  a=0\n",
    "  if len(str)>=4:\n",
    "    \n",
    "    for i in range(len(str)):\n",
    "      if str[i]==\"c\" :\n",
    "        if i+1<len(str):\n",
    "          \n",
    "          if str[i+1]==\"o\":\n",
    "            if i+3<len(str):\n",
    "              if str[i+3]==\"e\":\n",
    "                a=a+1\n",
    "      \n",
    "  return a\n"
   ]
  },
  {
   "cell_type": "markdown",
   "metadata": {},
   "source": [
    "double_char "
   ]
  },
  {
   "cell_type": "code",
   "execution_count": 2,
   "metadata": {},
   "outputs": [],
   "source": [
    "def double_char(str):\n",
    "  b=\"\"\n",
    "  a=str\n",
    "  for i in range(len(str)):\n",
    "    b = b+a[i] + str[i]\n",
    "  return b"
   ]
  },
  {
   "cell_type": "markdown",
   "metadata": {},
   "source": [
    "count_hi "
   ]
  },
  {
   "cell_type": "code",
   "execution_count": 4,
   "metadata": {},
   "outputs": [],
   "source": [
    "def count_hi(str):\n",
    "  count=0\n",
    "  a=len(str)\n",
    "  for i in range(a-1):\n",
    "    if str[i]==\"h\" and str[i+1]==\"i\" and i<a:\n",
    "      count=count+1\n",
    "  return count\n",
    "\n"
   ]
  },
  {
   "cell_type": "code",
   "execution_count": null,
   "metadata": {},
   "outputs": [],
   "source": []
  }
 ],
 "metadata": {
  "kernelspec": {
   "display_name": "Python 3",
   "language": "python",
   "name": "python3"
  },
  "language_info": {
   "codemirror_mode": {
    "name": "ipython",
    "version": 3
   },
   "file_extension": ".py",
   "mimetype": "text/x-python",
   "name": "python",
   "nbconvert_exporter": "python",
   "pygments_lexer": "ipython3",
   "version": "3.6.5"
  }
 },
 "nbformat": 4,
 "nbformat_minor": 2
}
